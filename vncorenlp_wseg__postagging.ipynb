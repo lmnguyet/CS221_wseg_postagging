{
  "nbformat": 4,
  "nbformat_minor": 0,
  "metadata": {
    "colab": {
      "provenance": [],
      "authorship_tag": "ABX9TyMGagLfGpTwd0rftp1nTxCB",
      "include_colab_link": true
    },
    "kernelspec": {
      "name": "python3",
      "display_name": "Python 3"
    },
    "language_info": {
      "name": "python"
    }
  },
  "cells": [
    {
      "cell_type": "markdown",
      "metadata": {
        "id": "view-in-github",
        "colab_type": "text"
      },
      "source": [
        "<a href=\"https://colab.research.google.com/github/lmnguyet/CS221_wseg_postagging/blob/main/vncorenlp_wseg__postagging.ipynb\" target=\"_parent\"><img src=\"https://colab.research.google.com/assets/colab-badge.svg\" alt=\"Open In Colab\"/></a>"
      ]
    },
    {
      "cell_type": "markdown",
      "source": [
        "Cài đặt tool VnCoreNLP"
      ],
      "metadata": {
        "id": "-R_v-OyEBcWH"
      }
    },
    {
      "cell_type": "code",
      "execution_count": null,
      "metadata": {
        "colab": {
          "base_uri": "https://localhost:8080/"
        },
        "id": "-5_0auJ7rO1b",
        "outputId": "aeb6f5a1-ccf2-467f-93dd-d606ef61eb4c"
      },
      "outputs": [
        {
          "output_type": "stream",
          "name": "stdout",
          "text": [
            "Looking in indexes: https://pypi.org/simple, https://us-python.pkg.dev/colab-wheels/public/simple/\n",
            "Requirement already satisfied: vncorenlp in /usr/local/lib/python3.10/dist-packages (1.0.3)\n",
            "Requirement already satisfied: requests in /usr/local/lib/python3.10/dist-packages (from vncorenlp) (2.27.1)\n",
            "Requirement already satisfied: urllib3<1.27,>=1.21.1 in /usr/local/lib/python3.10/dist-packages (from requests->vncorenlp) (1.26.15)\n",
            "Requirement already satisfied: certifi>=2017.4.17 in /usr/local/lib/python3.10/dist-packages (from requests->vncorenlp) (2022.12.7)\n",
            "Requirement already satisfied: charset-normalizer~=2.0.0 in /usr/local/lib/python3.10/dist-packages (from requests->vncorenlp) (2.0.12)\n",
            "Requirement already satisfied: idna<4,>=2.5 in /usr/local/lib/python3.10/dist-packages (from requests->vncorenlp) (3.4)\n"
          ]
        }
      ],
      "source": [
        "!pip3 install vncorenlp"
      ]
    },
    {
      "cell_type": "markdown",
      "source": [
        "Download file .jar và model wseg, pos tại https://github.com/vncorenlp/VnCoreNLP.git\n",
        "\n",
        "Lưu trong thư mục vncorenlp"
      ],
      "metadata": {
        "id": "jCD6OHUhl1y1"
      }
    },
    {
      "cell_type": "code",
      "source": [
        "from vncorenlp import VnCoreNLP"
      ],
      "metadata": {
        "id": "ufIjluIwsBL0"
      },
      "execution_count": null,
      "outputs": []
    },
    {
      "cell_type": "code",
      "source": [
        "vnp = VnCoreNLP('./vncorenlp/VnCoreNLP-1.2.jar',annotators='wseg,pos')"
      ],
      "metadata": {
        "id": "ZbRS6niWsBM8"
      },
      "execution_count": null,
      "outputs": []
    },
    {
      "cell_type": "markdown",
      "source": [
        "Đọc các câu trong sentences.txt"
      ],
      "metadata": {
        "id": "SxCJDJQvBCNp"
      }
    },
    {
      "cell_type": "code",
      "source": [
        "sentences = []\n",
        "with open('./dataset/sentences.txt','r',encoding='utf-8-sig') as f:\n",
        "  for sentence in f:\n",
        "    sentences.append(sentence.replace(sentence[0], sentence[0].lower()))"
      ],
      "metadata": {
        "id": "9orTDCpjU1AW"
      },
      "execution_count": 109,
      "outputs": []
    },
    {
      "cell_type": "code",
      "source": [
        "sentences[:5]"
      ],
      "metadata": {
        "colab": {
          "base_uri": "https://localhost:8080/"
        },
        "id": "aLMeAqBJVFIX",
        "outputId": "ee68867f-e350-4c14-b664-c767873e2818"
      },
      "execution_count": 110,
      "outputs": [
        {
          "output_type": "execute_result",
          "data": {
            "text/plain": [
              "['giáo dục cũng góp phần tạo ra những công dân có trách nhiệm, đạo đức và ý thức cộng đồng.\\n',\n",
              " 'học tập là một quá trình liên tục và suốt đời của mỗi cá nhân.\\n',\n",
              " 'mẹ tôi thường dậy sớm vào mỗi buổi sáng để chuẩn bị bữa ăn cho gia đình.\\n',\n",
              " 'chính trị là một chủ đề rất phức tạp và nhạy cảm trong xã hội.\\n',\n",
              " 'môi trường là một chủ đề rất quan trọng và cấp bách trong thời đại hiện nay.\\n']"
            ]
          },
          "metadata": {},
          "execution_count": 110
        }
      ]
    },
    {
      "cell_type": "code",
      "source": [
        "tokenized_sentences = []\n",
        "compound_words_num = 0\n",
        "total_words_num = 0"
      ],
      "metadata": {
        "id": "ypYQf4Jet9e4"
      },
      "execution_count": 111,
      "outputs": []
    },
    {
      "cell_type": "markdown",
      "source": [
        "Tách câu bằng VnCoreNLP.tokenize() và đếm số từ ghép\n",
        "\n",
        "Lưu trong file vncorenlp_tokens:\n",
        "\n",
        "Mỗi từ trên một dòng, mỗi câu cách nhau một dòng.\n",
        "\n",
        "Giữa các tiếng trong từ ghép ngăn cách bằng dấu '_'"
      ],
      "metadata": {
        "id": "ALCgsIeqBOp5"
      }
    },
    {
      "cell_type": "code",
      "source": [
        "with open('tokens/vncorenlp_tokens.txt','w',encoding='utf-8-sig') as ftoken:\n",
        "  for sentence in sentences:\n",
        "    tokens_list = vnp.tokenize(sentence)[0]\n",
        "    for token in tokens_list: \n",
        "      ftoken.write(token + '\\n')\n",
        "      if '_' in token: compound_words_num += 1\n",
        "    ftoken.write('\\n')\n",
        "    total_words_num += len(tokens_list)\n",
        "    tokenized_sentences.append(' '.join(tokens_list))"
      ],
      "metadata": {
        "id": "KjH1Ziikt_qW"
      },
      "execution_count": 112,
      "outputs": []
    },
    {
      "cell_type": "markdown",
      "source": [
        "Lưu câu đã được tách từ trong file vncorenlp_tokenized_sentences.txt"
      ],
      "metadata": {
        "id": "XqctJAY_CBQg"
      }
    },
    {
      "cell_type": "code",
      "source": [
        "with open('./tokens/vncorenlp_tokenized_sentences.txt','w',encoding='utf-8-sig') as ftks:\n",
        "  for sentence in tokenized_sentences:\n",
        "    ftks.write(sentence + '\\n')"
      ],
      "metadata": {
        "id": "4CW6KGXkuBsV"
      },
      "execution_count": 113,
      "outputs": []
    },
    {
      "cell_type": "code",
      "source": [
        "tokenized_sentences[:5]"
      ],
      "metadata": {
        "colab": {
          "base_uri": "https://localhost:8080/"
        },
        "id": "arMf7eeAu1Ej",
        "outputId": "7c971d6c-69c7-489d-8bee-aecb4f4d1df4"
      },
      "execution_count": 114,
      "outputs": [
        {
          "output_type": "execute_result",
          "data": {
            "text/plain": [
              "['giáo_dục cũng góp_phần tạo ra những công_dân có trách_nhiệm , đạo_đức và ý_thức cộng_đồng .',\n",
              " 'học_tập là một quá_trình liên_tục và suốt đời của mỗi cá_nhân .',\n",
              " 'mẹ tôi thường dậy sớm vào mỗi buổi sáng để chuẩn_bị bữa ăn cho gia_đình .',\n",
              " 'chính_trị là một chủ_đề rất phức_tạp và nhạy_cảm trong xã_hội .',\n",
              " 'môi_trường là một chủ_đề rất quan_trọng và cấp_bách trong thời_đại hiện_nay .']"
            ]
          },
          "metadata": {},
          "execution_count": 114
        }
      ]
    },
    {
      "cell_type": "code",
      "source": [
        "print('Số lượng từ ghép: ', compound_words_num)\n",
        "print('Tổng số lượng từ: ', total_words_num)"
      ],
      "metadata": {
        "colab": {
          "base_uri": "https://localhost:8080/"
        },
        "id": "5s4J5OBpuD6z",
        "outputId": "c2bc8331-4514-4f73-f009-5b5b37e4fc25"
      },
      "execution_count": 115,
      "outputs": [
        {
          "output_type": "stream",
          "name": "stdout",
          "text": [
            "Số lượng từ ghép:  411\n",
            "Tổng số lượng từ:  1355\n"
          ]
        }
      ]
    },
    {
      "cell_type": "markdown",
      "source": [
        "POS Tagging bằng VnCoreNLP"
      ],
      "metadata": {
        "id": "oAM2taFQCOpW"
      }
    },
    {
      "cell_type": "code",
      "source": [
        "pos_sentences = []\n",
        "tag_types = {}"
      ],
      "metadata": {
        "id": "pvPlF4zku8so"
      },
      "execution_count": 116,
      "outputs": []
    },
    {
      "cell_type": "markdown",
      "source": [
        "Gán nhãn trên file đã tách từ vncorenlp_tokens.txt\n",
        "\n",
        "Lưu trong file vncorenlp_pos_tags_tokens:\n",
        "\n",
        "Mỗi dòng gồm 1 từ và nhãn, cách nhau bởi dấu '\\t'"
      ],
      "metadata": {
        "id": "kWdHI-YlCWLc"
      }
    },
    {
      "cell_type": "code",
      "source": [
        "words_list = open('tokens/vncorenlp_tokens.txt','r',encoding='utf-8-sig').readlines()"
      ],
      "metadata": {
        "id": "oE_7nd3QGMbJ"
      },
      "execution_count": 117,
      "outputs": []
    },
    {
      "cell_type": "code",
      "source": [
        "with open('pos_tags/vncorenlp_pos_tags_tokens.txt','w',encoding='utf-8-sig') as fpos:\n",
        "  sentence = []\n",
        "  for word in words_list:\n",
        "    if word == '\\n':\n",
        "      fpos.write(word)\n",
        "      pos_sentences.append(' '.join(sentence))\n",
        "      sentence = []\n",
        "      continue\n",
        "    word = word.replace('\\n','')\n",
        "    if '_' not in word: tagged_word = vnp.pos_tag(word)[0][0]\n",
        "    else: tagged_word = vnp.pos_tag(word.replace('_',' '))[0][0]\n",
        "    fpos.write(tagged_word[0] + '\\t' + tagged_word[1] + '\\n')\n",
        "    sentence.append(tagged_word[0] + '/' + tagged_word[1])\n",
        "    if tagged_word[1] in tag_types: tag_types[tagged_word[1]] += 1\n",
        "    else: tag_types[tagged_word[1]] = 1"
      ],
      "metadata": {
        "id": "g7YrUmKQvShS"
      },
      "execution_count": 118,
      "outputs": []
    },
    {
      "cell_type": "code",
      "source": [
        "pos_sentences[:5]"
      ],
      "metadata": {
        "colab": {
          "base_uri": "https://localhost:8080/"
        },
        "id": "oSzvb7Ur06x1",
        "outputId": "2dbf77bc-46d5-4a1b-9fd2-c24074cef074"
      },
      "execution_count": 119,
      "outputs": [
        {
          "output_type": "execute_result",
          "data": {
            "text/plain": [
              "['giáo_dục/N cũng/R góp_phần/V tạo/V ra/V những/L công_dân/N có/V trách_nhiệm/N ,/CH đạo_đức/N và/Cc ý_thức/N cộng_đồng/N ./CH',\n",
              " 'học_tập/V là/V một/M quá_trình/N liên_tục/A và/Cc suốt/A đời/N của/E mỗi/L cá_nhân/N ./CH',\n",
              " 'mẹ/N tôi/P thường/R dậy/V sớm/A vào/E mỗi/L buổi/N sáng/N để/E chuẩn_bị/V bữa/N ăn/V cho/E gia_đình/N ./CH',\n",
              " 'chính_trị/N là/V một/M chủ_đề/N rất/R phức_tạp/A và/Cc nhạy_cảm/A trong/E xã_hội/N ./CH',\n",
              " 'môi_trường/N là/V một/M chủ_đề/N rất/R quan_trọng/A và/Cc cấp_bách/A trong/E thời_đại/N hiện_nay/N ./CH']"
            ]
          },
          "metadata": {},
          "execution_count": 119
        }
      ]
    },
    {
      "cell_type": "markdown",
      "source": [
        "Lưu trong file vncorenlp_pos_tags_sentences.txt các câu đã được gán nhãn"
      ],
      "metadata": {
        "id": "XphaHUo5DtWu"
      }
    },
    {
      "cell_type": "code",
      "source": [
        "with open('pos_tags/vncorenlp_pos_tags_sentences.txt','w',encoding='utf-8-sig') as fpos:\n",
        "  for sentence in pos_sentences:\n",
        "    fpos.write(sentence + '\\n')"
      ],
      "metadata": {
        "id": "wKwdHeYGDVbV"
      },
      "execution_count": 120,
      "outputs": []
    },
    {
      "cell_type": "code",
      "source": [
        "print('Tổng số loại nhãn: ', len(tag_types))\n",
        "print('Số lần xuất hiện của các loại nhãn:')"
      ],
      "metadata": {
        "colab": {
          "base_uri": "https://localhost:8080/"
        },
        "id": "r4mQ6fYEAd5j",
        "outputId": "787c7906-5116-4be8-be09-c0de1e331ff6"
      },
      "execution_count": 121,
      "outputs": [
        {
          "output_type": "stream",
          "name": "stdout",
          "text": [
            "Tổng số loại nhãn:  19\n",
            "Số lần xuất hiện của các loại nhãn:\n"
          ]
        }
      ]
    },
    {
      "cell_type": "code",
      "source": [
        "import pandas as pd\n",
        "df = pd.DataFrame(tag_types, index=[0])\n",
        "df"
      ],
      "metadata": {
        "colab": {
          "base_uri": "https://localhost:8080/",
          "height": 80
        },
        "id": "X8vwO3y5_CHp",
        "outputId": "b9824fd7-e5d8-45c5-d305-f3883c6f8cb6"
      },
      "execution_count": 122,
      "outputs": [
        {
          "output_type": "execute_result",
          "data": {
            "text/plain": [
              "     N   R    V   L   CH  Cc   M   A    E   P  T   C  Np  X  Nb  Nc  Z  Ni  Nu\n",
              "0  409  39  307  43  142  37  45  98  112  41  3  20  43  3   3   6  1   2   1"
            ],
            "text/html": [
              "\n",
              "  <div id=\"df-dfb8c51f-0e27-42e1-8ad5-56a72687baa0\">\n",
              "    <div class=\"colab-df-container\">\n",
              "      <div>\n",
              "<style scoped>\n",
              "    .dataframe tbody tr th:only-of-type {\n",
              "        vertical-align: middle;\n",
              "    }\n",
              "\n",
              "    .dataframe tbody tr th {\n",
              "        vertical-align: top;\n",
              "    }\n",
              "\n",
              "    .dataframe thead th {\n",
              "        text-align: right;\n",
              "    }\n",
              "</style>\n",
              "<table border=\"1\" class=\"dataframe\">\n",
              "  <thead>\n",
              "    <tr style=\"text-align: right;\">\n",
              "      <th></th>\n",
              "      <th>N</th>\n",
              "      <th>R</th>\n",
              "      <th>V</th>\n",
              "      <th>L</th>\n",
              "      <th>CH</th>\n",
              "      <th>Cc</th>\n",
              "      <th>M</th>\n",
              "      <th>A</th>\n",
              "      <th>E</th>\n",
              "      <th>P</th>\n",
              "      <th>T</th>\n",
              "      <th>C</th>\n",
              "      <th>Np</th>\n",
              "      <th>X</th>\n",
              "      <th>Nb</th>\n",
              "      <th>Nc</th>\n",
              "      <th>Z</th>\n",
              "      <th>Ni</th>\n",
              "      <th>Nu</th>\n",
              "    </tr>\n",
              "  </thead>\n",
              "  <tbody>\n",
              "    <tr>\n",
              "      <th>0</th>\n",
              "      <td>409</td>\n",
              "      <td>39</td>\n",
              "      <td>307</td>\n",
              "      <td>43</td>\n",
              "      <td>142</td>\n",
              "      <td>37</td>\n",
              "      <td>45</td>\n",
              "      <td>98</td>\n",
              "      <td>112</td>\n",
              "      <td>41</td>\n",
              "      <td>3</td>\n",
              "      <td>20</td>\n",
              "      <td>43</td>\n",
              "      <td>3</td>\n",
              "      <td>3</td>\n",
              "      <td>6</td>\n",
              "      <td>1</td>\n",
              "      <td>2</td>\n",
              "      <td>1</td>\n",
              "    </tr>\n",
              "  </tbody>\n",
              "</table>\n",
              "</div>\n",
              "      <button class=\"colab-df-convert\" onclick=\"convertToInteractive('df-dfb8c51f-0e27-42e1-8ad5-56a72687baa0')\"\n",
              "              title=\"Convert this dataframe to an interactive table.\"\n",
              "              style=\"display:none;\">\n",
              "        \n",
              "  <svg xmlns=\"http://www.w3.org/2000/svg\" height=\"24px\"viewBox=\"0 0 24 24\"\n",
              "       width=\"24px\">\n",
              "    <path d=\"M0 0h24v24H0V0z\" fill=\"none\"/>\n",
              "    <path d=\"M18.56 5.44l.94 2.06.94-2.06 2.06-.94-2.06-.94-.94-2.06-.94 2.06-2.06.94zm-11 1L8.5 8.5l.94-2.06 2.06-.94-2.06-.94L8.5 2.5l-.94 2.06-2.06.94zm10 10l.94 2.06.94-2.06 2.06-.94-2.06-.94-.94-2.06-.94 2.06-2.06.94z\"/><path d=\"M17.41 7.96l-1.37-1.37c-.4-.4-.92-.59-1.43-.59-.52 0-1.04.2-1.43.59L10.3 9.45l-7.72 7.72c-.78.78-.78 2.05 0 2.83L4 21.41c.39.39.9.59 1.41.59.51 0 1.02-.2 1.41-.59l7.78-7.78 2.81-2.81c.8-.78.8-2.07 0-2.86zM5.41 20L4 18.59l7.72-7.72 1.47 1.35L5.41 20z\"/>\n",
              "  </svg>\n",
              "      </button>\n",
              "      \n",
              "  <style>\n",
              "    .colab-df-container {\n",
              "      display:flex;\n",
              "      flex-wrap:wrap;\n",
              "      gap: 12px;\n",
              "    }\n",
              "\n",
              "    .colab-df-convert {\n",
              "      background-color: #E8F0FE;\n",
              "      border: none;\n",
              "      border-radius: 50%;\n",
              "      cursor: pointer;\n",
              "      display: none;\n",
              "      fill: #1967D2;\n",
              "      height: 32px;\n",
              "      padding: 0 0 0 0;\n",
              "      width: 32px;\n",
              "    }\n",
              "\n",
              "    .colab-df-convert:hover {\n",
              "      background-color: #E2EBFA;\n",
              "      box-shadow: 0px 1px 2px rgba(60, 64, 67, 0.3), 0px 1px 3px 1px rgba(60, 64, 67, 0.15);\n",
              "      fill: #174EA6;\n",
              "    }\n",
              "\n",
              "    [theme=dark] .colab-df-convert {\n",
              "      background-color: #3B4455;\n",
              "      fill: #D2E3FC;\n",
              "    }\n",
              "\n",
              "    [theme=dark] .colab-df-convert:hover {\n",
              "      background-color: #434B5C;\n",
              "      box-shadow: 0px 1px 3px 1px rgba(0, 0, 0, 0.15);\n",
              "      filter: drop-shadow(0px 1px 2px rgba(0, 0, 0, 0.3));\n",
              "      fill: #FFFFFF;\n",
              "    }\n",
              "  </style>\n",
              "\n",
              "      <script>\n",
              "        const buttonEl =\n",
              "          document.querySelector('#df-dfb8c51f-0e27-42e1-8ad5-56a72687baa0 button.colab-df-convert');\n",
              "        buttonEl.style.display =\n",
              "          google.colab.kernel.accessAllowed ? 'block' : 'none';\n",
              "\n",
              "        async function convertToInteractive(key) {\n",
              "          const element = document.querySelector('#df-dfb8c51f-0e27-42e1-8ad5-56a72687baa0');\n",
              "          const dataTable =\n",
              "            await google.colab.kernel.invokeFunction('convertToInteractive',\n",
              "                                                     [key], {});\n",
              "          if (!dataTable) return;\n",
              "\n",
              "          const docLinkHtml = 'Like what you see? Visit the ' +\n",
              "            '<a target=\"_blank\" href=https://colab.research.google.com/notebooks/data_table.ipynb>data table notebook</a>'\n",
              "            + ' to learn more about interactive tables.';\n",
              "          element.innerHTML = '';\n",
              "          dataTable['output_type'] = 'display_data';\n",
              "          await google.colab.output.renderOutput(dataTable, element);\n",
              "          const docLink = document.createElement('div');\n",
              "          docLink.innerHTML = docLinkHtml;\n",
              "          element.appendChild(docLink);\n",
              "        }\n",
              "      </script>\n",
              "    </div>\n",
              "  </div>\n",
              "  "
            ]
          },
          "metadata": {},
          "execution_count": 122
        }
      ]
    }
  ]
}